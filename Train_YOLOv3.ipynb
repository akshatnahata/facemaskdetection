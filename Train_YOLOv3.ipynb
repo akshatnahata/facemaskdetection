{
  "nbformat": 4,
  "nbformat_minor": 0,
  "metadata": {
    "colab": {
      "name": "Train_YOLOv3_270621.ipynb",
      "provenance": [],
      "collapsed_sections": []
    },
    "kernelspec": {
      "display_name": "Python 3",
      "language": "python",
      "name": "python3"
    },
    "language_info": {
      "codemirror_mode": {
        "name": "ipython",
        "version": 3
      },
      "file_extension": ".py",
      "mimetype": "text/x-python",
      "name": "python",
      "nbconvert_exporter": "python",
      "pygments_lexer": "ipython3",
      "version": "3.8.8"
    }
  },
  "cells": [
    {
      "cell_type": "code",
      "metadata": {
        "id": "bwp6NIrsZZFP"
      },
      "source": [
        "\"\"\"Steps:\n",
        "1) Run the cells one by one in order\n",
        "2) Create a folder called YOLO_IITISOC in the 'My Drive' section of Google Drive\n",
        "3) Upload the training images as YOLO_TrainImages.zip and testing images as YOLO_TestImages.zip in the folder created in step 2 \n",
        "4) When u run the cell where it connects to drive, click on the link that appears->choose the google account->copy and paste the authentication code\n",
        "5) Run all the other cells now \n",
        "\"\"\""
      ],
      "execution_count": null,
      "outputs": []
    },
    {
      "cell_type": "code",
      "metadata": {
        "id": "3I2WN4Bz1b-W"
      },
      "source": [
        "\"\"\"Anything appearing after the exclamation point on a line will be executed not by the Python kernel, but by the system command line\"\"\""
      ],
      "execution_count": null,
      "outputs": []
    },
    {
      "cell_type": "code",
      "metadata": {
        "id": "g5QAskQvOTXJ"
      },
      "source": [
        "# Check if NVIDIA GPU is enabled\n",
        "!nvidia-smi"
      ],
      "execution_count": null,
      "outputs": []
    },
    {
      "cell_type": "code",
      "metadata": {
        "colab": {
          "base_uri": "https://localhost:8080/"
        },
        "id": "9e9ZW3sqMEPO",
        "outputId": "cd817207-9a23-4fbd-93bd-7cb280606ebe"
      },
      "source": [
        "from google.colab import drive\n",
        "drive.mount('/content/gdrive')\n",
        "!ln -s /content/gdrive/My\\ Drive/ /mydrive  #This is to make a short form for the mydrive location \n",
        "!ls /mydrive"
      ],
      "execution_count": null,
      "outputs": [
        {
          "output_type": "stream",
          "text": [
            "Mounted at /content/gdrive\n",
            "'Colab Notebooks'  'MobileNet_Project (23-06-2021).zip'   YOLO_IITISOC\n"
          ],
          "name": "stdout"
        }
      ]
    },
    {
      "cell_type": "code",
      "metadata": {
        "id": "e03U7Zi-qMr2"
      },
      "source": [
        "# Clone the darknet repository from GitHub as a part of Transfer Learning\n",
        "!git clone https://github.com/AlexeyAB/darknet"
      ],
      "execution_count": null,
      "outputs": []
    },
    {
      "cell_type": "code",
      "metadata": {
        "id": "7hzfEWSuONhz"
      },
      "source": [
        "# Configure some settings\n",
        "%cd darknet\n",
        "!sed -i 's/OPENCV=0/OPENCV=1/' Makefile\n",
        "!sed -i 's/GPU=0/GPU=1/' Makefile\n",
        "!sed -i 's/CUDNN=0/CUDNN=1/' Makefile"
      ],
      "execution_count": null,
      "outputs": []
    },
    {
      "cell_type": "code",
      "metadata": {
        "id": "EBBokOq5OOA5"
      },
      "source": [
        "# Compile\n",
        "!make"
      ],
      "execution_count": null,
      "outputs": []
    },
    {
      "cell_type": "code",
      "metadata": {
        "id": "s-RpscgU853t"
      },
      "source": [
        "# Make a copy of yolov3.cfg\n",
        "!cp cfg/yolov3.cfg cfg/yolov3_training.cfg"
      ],
      "execution_count": null,
      "outputs": []
    },
    {
      "cell_type": "code",
      "metadata": {
        "id": "5ZgVQRop_vwR"
      },
      "source": [
        "# Change some details in yolov3.cfg file\n",
        "!sed -i 's/batch=1/batch=64/' cfg/yolov3_training.cfg\n",
        "!sed -i 's/subdivisions=1/subdivisions=16/' cfg/yolov3_training.cfg\n",
        "!sed -i 's/max_batches = 500200/max_batches = 4000/' cfg/yolov3_training.cfg \n",
        "!sed -i '610 s@classes=80@classes=2@' cfg/yolov3_training.cfg\n",
        "!sed -i '696 s@classes=80@classes=2@' cfg/yolov3_training.cfg\n",
        "!sed -i '783 s@classes=80@classes=2@' cfg/yolov3_training.cfg\n",
        "!sed -i '603 s@filters=255@filters=21@' cfg/yolov3_training.cfg\n",
        "!sed -i '689 s@filters=255@filters=21@' cfg/yolov3_training.cfg\n",
        "!sed -i '776 s@filters=255@filters=21@' cfg/yolov3_training.cfg"
      ],
      "execution_count": null,
      "outputs": []
    },
    {
      "cell_type": "code",
      "metadata": {
        "id": "7AIBw_psIclz"
      },
      "source": [
        "!echo -e 'With_Mask\\nWithout_Mask' > data/face_mask.names\n",
        "!echo -e 'classes= 2\\ntrain  = data/train.txt\\nvalid  = data/test.txt\\nnames = data/face_mask.names\\nbackup = /mydrive/YOLO_IITISOC' > data/face_mask.data"
      ],
      "execution_count": null,
      "outputs": []
    },
    {
      "cell_type": "code",
      "metadata": {
        "id": "67o96gV7L0Uv"
      },
      "source": [
        "!cp cfg/yolov3_training.cfg /mydrive/YOLO_IITISOC/yolov3_testing.cfg\n",
        "!cp data/face_mask.names /mydrive/YOLO_IITISOC/classes.txt"
      ],
      "execution_count": null,
      "outputs": []
    },
    {
      "cell_type": "code",
      "metadata": {
        "id": "eZlkzFMW7I_N"
      },
      "source": [
        "!mkdir data/face_mask_train_img\n",
        "!unzip /mydrive/YOLO_IITISOC/YOLO_TrainImages.zip -d data/face_mask_train_img"
      ],
      "execution_count": null,
      "outputs": []
    },
    {
      "cell_type": "code",
      "metadata": {
        "id": "PawtXrRR5c1M"
      },
      "source": [
        "!mkdir data/face_mask_test_img\n",
        "!unzip /mydrive/YOLO_IITISOC/YOLO_TestImages.zip -d data/face_mask_test_img"
      ],
      "execution_count": null,
      "outputs": []
    },
    {
      "cell_type": "code",
      "metadata": {
        "id": "DGUyXxeYX0IP"
      },
      "source": [
        "import glob\n",
        "images_list = glob.glob(\"data/face_mask_train_img/*.jpg\")\n",
        "with open(\"data/train.txt\", \"w\") as f:\n",
        "    f.write(\"\\n\".join(images_list))"
      ],
      "execution_count": null,
      "outputs": []
    },
    {
      "cell_type": "code",
      "metadata": {
        "id": "61CbxEyt5oT-"
      },
      "source": [
        "images_list = glob.glob(\"data/face_mask_test_img/*.jpg\")\n",
        "with open(\"data/test.txt\", \"w\") as f:\n",
        "    f.write(\"\\n\".join(images_list))"
      ],
      "execution_count": null,
      "outputs": []
    },
    {
      "cell_type": "code",
      "metadata": {
        "id": "jhb5nZvsQ_96"
      },
      "source": [
        "!wget https://pjreddie.com/media/files/darknet53.conv.74"
      ],
      "execution_count": null,
      "outputs": []
    },
    {
      "cell_type": "code",
      "metadata": {
        "id": "GhaM2yzI5jEd"
      },
      "source": [
        "!chmod +x ./darknet #This is to deal with the permissions"
      ],
      "execution_count": null,
      "outputs": []
    },
    {
      "cell_type": "code",
      "metadata": {
        "id": "S3_g3jclUzMm"
      },
      "source": [
        "#Training\n",
        "!./darknet detector train data/face_mask.data cfg/yolov3_training.cfg darknet53.conv.74 -dont_show -map \n",
        "# Uncomment below and comment above to re-start your training from last saved weights\n",
        "#!./darknet detector train data/face_mask.data cfg/yolov3_training.cfg /mydrive/YOLO_IITISOC/yolov3_training_last.weights -dont_show -map"
      ],
      "execution_count": null,
      "outputs": []
    },
    {
      "cell_type": "code",
      "metadata": {
        "id": "8ulXYTJ66a4P"
      },
      "source": [
        "\"\"\"\n",
        "Now go to YOLO_IITI folder in MyDrive and download:\n",
        "1) classes.txt\n",
        "2) yolov3_testing.cfg \n",
        "3) yolov3_training_last.weights\n",
        "\"\"\""
      ],
      "execution_count": null,
      "outputs": []
    },
    {
      "cell_type": "code",
      "metadata": {
        "id": "MMBbE_1q5q3D"
      },
      "source": [
        "!./darknet detector map data/face_mask.data cfg/yolov3_training.cfg /mydrive/YOLO_IITISOC/yolov3_training_last.weights"
      ],
      "execution_count": null,
      "outputs": []
    },
    {
      "cell_type": "code",
      "metadata": {
        "id": "O5OhqvNT6CgF"
      },
      "source": [
        "!./darknet detector test data/face_mask.data cfg/yolov3_training.cfg /mydrive/YOLO_IITISOC/yolov3_training_last.weights"
      ],
      "execution_count": null,
      "outputs": []
    },
    {
      "cell_type": "code",
      "metadata": {
        "id": "sycqw2EJ6Go3"
      },
      "source": [
        "!pwd"
      ],
      "execution_count": null,
      "outputs": []
    },
    {
      "cell_type": "code",
      "metadata": {
        "id": "o72Bq7Bc6SIY"
      },
      "source": [
        "!./darknet detector demo data/face_mask.data cfg/yolov3_training.cfg /mydrive/YOLO_IITISOC/yolov3_training_last.weights -dont_show test_video.mp4 -i 0 -out_filename result_video.avi -thresh 0.7"
      ],
      "execution_count": null,
      "outputs": []
    }
  ]
}